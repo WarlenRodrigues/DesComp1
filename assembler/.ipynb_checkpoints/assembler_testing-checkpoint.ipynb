{
 "cells": [
  {
   "cell_type": "code",
   "execution_count": 113,
   "metadata": {},
   "outputs": [],
   "source": [
    "class Assembler:\n",
    "\n",
    "    def __init__(self, registers, opcodes):\n",
    "        self.registers = registers\n",
    "        self.opcodes = opcodes\n",
    "        self.functions = {}\n",
    "        self.binary = {}\n",
    "    \n",
    "    def get_code(self, name):\n",
    "        with open(name) as f:\n",
    "            content = f.readlines()\n",
    "        content = [x.strip() for x in content] \n",
    "        self.code = content\n",
    "        print(self.code)\n",
    "\n",
    "    # ELE GUARDA LINHA DA FUNÇÃO-1\n",
    "    def get_functions(self):\n",
    "        for line in range(0, len(self.code)):\n",
    "            parameters = self.code[line].split(\" \")\n",
    "            for parameter in parameters:\n",
    "                if \":\" in parameter:\n",
    "                    self.functions[parameter.replace(\":\", \"\")] = (bin(int(line))[2:].zfill(9))\n",
    "\n",
    "        print(self.functions)\n",
    "\n",
    "    def replace_opcodes_and_registers(self):\n",
    "        for line in range(0, len(self.code)):\n",
    "            command_comment = ' -- ' + self.code[line]\n",
    "            parameters = self.code[line].split(\" \")\n",
    "            parameters_list = []\n",
    "            for parameter in parameters:\n",
    "                if \":\" in parameter:\n",
    "                    self.functions[line] = parameter.replace(\":\", \"\")\n",
    "                else:\n",
    "                    parameter = parameter.replace(',', '')\n",
    "                    if parameter in self.opcodes:\n",
    "                        parameters_list.append(self.opcodes[parameter])\n",
    "                    elif parameter in self.registers:\n",
    "                        parameters_list.append(self.registers[parameter])\n",
    "                    elif \"%\" in parameter:\n",
    "                        parameters_list.append(bin(int(parameter.replace('%', \"\")))[2:].zfill(9))\n",
    "                    elif \"#\" in parameter:\n",
    "                        parameters_list.append(bin(int(parameter.replace('#', \"\")))[2:].zfill(9))\n",
    "                    elif parameter in self.functions:\n",
    "                        parameters_list.append(self.functions[parameter])\n",
    "            parameters_list.append(command_comment)\n",
    "            if len(parameters_list) == 3:         \n",
    "                opcode = parameters_list[0]\n",
    "                imediato = parameters_list[1]\n",
    "                comment = parameters_list[2]\n",
    "                parameters_list = [opcode, '000', imediato, comment]\n",
    "            self.binary[line] = parameters_list\n",
    "            if len(parameters_list) < 3:\n",
    "                parameters_list = []\n",
    "        print(self.binary)\n",
    "        print(self.functions)\n",
    "        \n",
    "    def generate_bin_code(self):\n",
    "        for item in self.binary:\n",
    "            full_line = 'tmp({0}) := '.format(item)\n",
    "            for piece in self.binary[item]:\n",
    "                    full_line += piece\n",
    "            print(full_line)"
   ]
  },
  {
   "cell_type": "code",
   "execution_count": 114,
   "metadata": {},
   "outputs": [],
   "source": [
    "#====================== DISASEMBLYING ============================#\n",
    "\n",
    "# SETTING REGISTERS DICT\n",
    "registers = {\"R0\": \"000\",\n",
    "             \"R1\": \"001\",\n",
    "             \"R2\": \"010\",\n",
    "             \"R3\": \"011\", \n",
    "             \"R4\": \"100\", \n",
    "             \"R5\": \"101\", \n",
    "             \"R6\": \"110\",\n",
    "             \"R7\": \"111\"}\n",
    "\n",
    "# SETTING INSTRUCTIONS DICT\n",
    "opcodes = {\"LOAD\": \"0001\",\n",
    "           \"ADD\": \"0010\", \n",
    "           \"ADDI\": \"0100\",\n",
    "           \"STORE\": \"1000\", \n",
    "           \"SUB\": \"0011\", \n",
    "           \"SUBI\": \"0101\", \n",
    "           \"JMP\": \"0110\",\n",
    "           \"CMP\": \"1100\",\n",
    "           \"JE\": \"0111\"}"
   ]
  },
  {
   "cell_type": "code",
   "execution_count": 115,
   "metadata": {},
   "outputs": [],
   "source": [
    "# INSTANTIATING ASSEMBLER\n",
    "assembler = Assembler(registers, opcodes)"
   ]
  },
  {
   "cell_type": "code",
   "execution_count": 116,
   "metadata": {},
   "outputs": [
    {
     "name": "stdout",
     "output_type": "stream",
     "text": [
      "['LOAD R0, #0', 'STORE R0, %130', 'STORE R0, %131', 'STORE R0, %132', 'STORE R0, %133', 'STORE R0, %134', 'STORE R0, %135', 'LOOP: LOAD R0, #0', 'CMP R0, %10', 'JE LOOP', 'LOAD R1, #1', 'ADD R1, %130', 'STORE R1, %130', 'IFS: LOAD R2, #10', 'CMP R2, %130', 'JE INC_SEC_D', 'LOAD R2, #6', 'CMP R2, %131', 'JE INC_MIN_U', 'LOAD R2, #10', 'CMP R2, %132', 'JE INC_MIN_D', 'LOAD R2, #6', 'CMP R2, %133', 'JE INC_HOUR_U', 'LOAD R2, #10', 'CMP R2, %134', 'JE INC_HOUR_D', 'LOAD R2, #2', 'CMP R2, %135', 'JE DAY', 'JMP LOOP', 'INC_SEC_D: LOAD R1, #1', 'ADD R1, %131', 'STORE R1, %131', 'LOAD R0, #0', 'STORE R0, %130', 'JMP IFS', 'INC_MIN_U: LOAD R1, #1', 'ADD R1, %132', 'STORE R1, %132', 'LOAD R0, #0', 'STORE R0, %1', 'JMP IFS', 'INC_MIN_D: LOAD R1, #1', 'ADD R1, %133', 'STORE R1, %133', 'LOAD R0, #0', 'STORE R0, %132', 'JMP IFS', 'INC_HOUR_U: LOAD R1, #1', 'ADD R1, %134', 'STORE R1, %134', 'LOAD R0, #0', 'STORE R0, %133', 'JMP IFS', 'INC_HOUR_D: LOAD R1, #1', 'ADD R1, %135', 'STORE R1, %135', 'LOAD R0, #0', 'STORE R0, %134', 'JMP IFS', 'DAY: LOAD R1, #4', 'CMP R1, %134', 'JE RESET_DAY', 'JMP LOOP', 'RESET_DAY: LOAD R0, #0', 'STORE R0, %130', 'STORE R0, %131', 'STORE R0, %132', 'STORE R0, %133', 'STORE R0, %134', 'STORE R0, %135', 'JMP LOOP']\n"
     ]
    }
   ],
   "source": [
    "assembler.get_code(\"code2.txt\")"
   ]
  },
  {
   "cell_type": "code",
   "execution_count": 117,
   "metadata": {},
   "outputs": [
    {
     "name": "stdout",
     "output_type": "stream",
     "text": [
      "{'LOOP': '000000111', 'IFS': '000001101', 'INC_SEC_D': '000100000', 'INC_MIN_U': '000100110', 'INC_MIN_D': '000101100', 'INC_HOUR_U': '000110010', 'INC_HOUR_D': '000111000', 'DAY': '000111110', 'RESET_DAY': '001000010'}\n"
     ]
    }
   ],
   "source": [
    "assembler.get_functions()"
   ]
  },
  {
   "cell_type": "code",
   "execution_count": 118,
   "metadata": {},
   "outputs": [
    {
     "name": "stdout",
     "output_type": "stream",
     "text": [
      "{0: ['0001', '000', '000000000', ' -- LOAD R0, #0'], 1: ['1000', '000', '000', ' -- STORE R0, %130'], 2: ['1000', '000', '000', ' -- STORE R0, %131'], 3: ['1000', '000', '000', ' -- STORE R0, %132'], 4: ['1000', '000', '000', ' -- STORE R0, %133'], 5: ['1000', '000', '000', ' -- STORE R0, %134'], 6: ['1000', '000', '000', ' -- STORE R0, %135'], 7: ['0001', '000', '000000000', ' -- LOOP: LOAD R0, #0'], 8: ['1100', '000', '000', ' -- CMP R0, %10'], 9: ['0111', '000', '000000111', ' -- JE LOOP'], 10: ['0001', '001', '000000001', ' -- LOAD R1, #1'], 11: ['0010', '000', '001', ' -- ADD R1, %130'], 12: ['1000', '000', '001', ' -- STORE R1, %130'], 13: ['0001', '010', '000001010', ' -- IFS: LOAD R2, #10'], 14: ['1100', '000', '010', ' -- CMP R2, %130'], 15: ['0111', '000', '000100000', ' -- JE INC_SEC_D'], 16: ['0001', '010', '000000110', ' -- LOAD R2, #6'], 17: ['1100', '000', '010', ' -- CMP R2, %131'], 18: ['0111', '000', '000100110', ' -- JE INC_MIN_U'], 19: ['0001', '010', '000001010', ' -- LOAD R2, #10'], 20: ['1100', '000', '010', ' -- CMP R2, %132'], 21: ['0111', '000', '000101100', ' -- JE INC_MIN_D'], 22: ['0001', '010', '000000110', ' -- LOAD R2, #6'], 23: ['1100', '000', '010', ' -- CMP R2, %133'], 24: ['0111', '000', '000110010', ' -- JE INC_HOUR_U'], 25: ['0001', '010', '000001010', ' -- LOAD R2, #10'], 26: ['1100', '000', '010', ' -- CMP R2, %134'], 27: ['0111', '000', '000111000', ' -- JE INC_HOUR_D'], 28: ['0001', '010', '000000010', ' -- LOAD R2, #2'], 29: ['1100', '000', '010', ' -- CMP R2, %135'], 30: ['0111', '000', '000111110', ' -- JE DAY'], 31: ['0110', '000', '000000111', ' -- JMP LOOP'], 32: ['0001', '001', '000000001', ' -- INC_SEC_D: LOAD R1, #1'], 33: ['0010', '000', '001', ' -- ADD R1, %131'], 34: ['1000', '000', '001', ' -- STORE R1, %131'], 35: ['0001', '000', '000000000', ' -- LOAD R0, #0'], 36: ['1000', '000', '000', ' -- STORE R0, %130'], 37: ['0110', '000', '000001101', ' -- JMP IFS'], 38: ['0001', '001', '000000001', ' -- INC_MIN_U: LOAD R1, #1'], 39: ['0010', '000', '001', ' -- ADD R1, %132'], 40: ['1000', '000', '001', ' -- STORE R1, %132'], 41: ['0001', '000', '000000000', ' -- LOAD R0, #0'], 42: ['1000', '000', '000', ' -- STORE R0, %1'], 43: ['0110', '000', '000001101', ' -- JMP IFS'], 44: ['0001', '001', '000000001', ' -- INC_MIN_D: LOAD R1, #1'], 45: ['0010', '000', '001', ' -- ADD R1, %133'], 46: ['1000', '000', '001', ' -- STORE R1, %133'], 47: ['0001', '000', '000000000', ' -- LOAD R0, #0'], 48: ['1000', '000', '000', ' -- STORE R0, %132'], 49: ['0110', '000', '000001101', ' -- JMP IFS'], 50: ['0001', '001', '000000001', ' -- INC_HOUR_U: LOAD R1, #1'], 51: ['0010', '000', '001', ' -- ADD R1, %134'], 52: ['1000', '000', '001', ' -- STORE R1, %134'], 53: ['0001', '000', '000000000', ' -- LOAD R0, #0'], 54: ['1000', '000', '000', ' -- STORE R0, %133'], 55: ['0110', '000', '000001101', ' -- JMP IFS'], 56: ['0001', '001', '000000001', ' -- INC_HOUR_D: LOAD R1, #1'], 57: ['0010', '000', '001', ' -- ADD R1, %135'], 58: ['1000', '000', '001', ' -- STORE R1, %135'], 59: ['0001', '000', '000000000', ' -- LOAD R0, #0'], 60: ['1000', '000', '000', ' -- STORE R0, %134'], 61: ['0110', '000', '000001101', ' -- JMP IFS'], 62: ['0001', '001', '000000100', ' -- DAY: LOAD R1, #4'], 63: ['1100', '000', '001', ' -- CMP R1, %134'], 64: ['0111', '000', '001000010', ' -- JE RESET_DAY'], 65: ['0110', '000', '000000111', ' -- JMP LOOP'], 66: ['0001', '000', '000000000', ' -- RESET_DAY: LOAD R0, #0'], 67: ['1000', '000', '000', ' -- STORE R0, %130'], 68: ['1000', '000', '000', ' -- STORE R0, %131'], 69: ['1000', '000', '000', ' -- STORE R0, %132'], 70: ['1000', '000', '000', ' -- STORE R0, %133'], 71: ['1000', '000', '000', ' -- STORE R0, %134'], 72: ['1000', '000', '000', ' -- STORE R0, %135'], 73: ['0110', '000', '000000111', ' -- JMP LOOP']}\n",
      "{'LOOP': '000000111', 'IFS': '000001101', 'INC_SEC_D': '000100000', 'INC_MIN_U': '000100110', 'INC_MIN_D': '000101100', 'INC_HOUR_U': '000110010', 'INC_HOUR_D': '000111000', 'DAY': '000111110', 'RESET_DAY': '001000010', 7: 'LOOP', 13: 'IFS', 32: 'INC_SEC_D', 38: 'INC_MIN_U', 44: 'INC_MIN_D', 50: 'INC_HOUR_U', 56: 'INC_HOUR_D', 62: 'DAY', 66: 'RESET_DAY'}\n"
     ]
    }
   ],
   "source": [
    "assembler.replace_opcodes_and_registers()"
   ]
  },
  {
   "cell_type": "code",
   "execution_count": 119,
   "metadata": {},
   "outputs": [
    {
     "name": "stdout",
     "output_type": "stream",
     "text": [
      "tmp(0) := 0001000000000000 -- LOAD R0, #0\n",
      "tmp(1) := 1000000000 -- STORE R0, %130\n",
      "tmp(2) := 1000000000 -- STORE R0, %131\n",
      "tmp(3) := 1000000000 -- STORE R0, %132\n",
      "tmp(4) := 1000000000 -- STORE R0, %133\n",
      "tmp(5) := 1000000000 -- STORE R0, %134\n",
      "tmp(6) := 1000000000 -- STORE R0, %135\n",
      "tmp(7) := 0001000000000000 -- LOOP: LOAD R0, #0\n",
      "tmp(8) := 1100000000 -- CMP R0, %10\n",
      "tmp(9) := 0111000000000111 -- JE LOOP\n",
      "tmp(10) := 0001001000000001 -- LOAD R1, #1\n",
      "tmp(11) := 0010000001 -- ADD R1, %130\n",
      "tmp(12) := 1000000001 -- STORE R1, %130\n",
      "tmp(13) := 0001010000001010 -- IFS: LOAD R2, #10\n",
      "tmp(14) := 1100000010 -- CMP R2, %130\n",
      "tmp(15) := 0111000000100000 -- JE INC_SEC_D\n",
      "tmp(16) := 0001010000000110 -- LOAD R2, #6\n",
      "tmp(17) := 1100000010 -- CMP R2, %131\n",
      "tmp(18) := 0111000000100110 -- JE INC_MIN_U\n",
      "tmp(19) := 0001010000001010 -- LOAD R2, #10\n",
      "tmp(20) := 1100000010 -- CMP R2, %132\n",
      "tmp(21) := 0111000000101100 -- JE INC_MIN_D\n",
      "tmp(22) := 0001010000000110 -- LOAD R2, #6\n",
      "tmp(23) := 1100000010 -- CMP R2, %133\n",
      "tmp(24) := 0111000000110010 -- JE INC_HOUR_U\n",
      "tmp(25) := 0001010000001010 -- LOAD R2, #10\n",
      "tmp(26) := 1100000010 -- CMP R2, %134\n",
      "tmp(27) := 0111000000111000 -- JE INC_HOUR_D\n",
      "tmp(28) := 0001010000000010 -- LOAD R2, #2\n",
      "tmp(29) := 1100000010 -- CMP R2, %135\n",
      "tmp(30) := 0111000000111110 -- JE DAY\n",
      "tmp(31) := 0110000000000111 -- JMP LOOP\n",
      "tmp(32) := 0001001000000001 -- INC_SEC_D: LOAD R1, #1\n",
      "tmp(33) := 0010000001 -- ADD R1, %131\n",
      "tmp(34) := 1000000001 -- STORE R1, %131\n",
      "tmp(35) := 0001000000000000 -- LOAD R0, #0\n",
      "tmp(36) := 1000000000 -- STORE R0, %130\n",
      "tmp(37) := 0110000000001101 -- JMP IFS\n",
      "tmp(38) := 0001001000000001 -- INC_MIN_U: LOAD R1, #1\n",
      "tmp(39) := 0010000001 -- ADD R1, %132\n",
      "tmp(40) := 1000000001 -- STORE R1, %132\n",
      "tmp(41) := 0001000000000000 -- LOAD R0, #0\n",
      "tmp(42) := 1000000000 -- STORE R0, %1\n",
      "tmp(43) := 0110000000001101 -- JMP IFS\n",
      "tmp(44) := 0001001000000001 -- INC_MIN_D: LOAD R1, #1\n",
      "tmp(45) := 0010000001 -- ADD R1, %133\n",
      "tmp(46) := 1000000001 -- STORE R1, %133\n",
      "tmp(47) := 0001000000000000 -- LOAD R0, #0\n",
      "tmp(48) := 1000000000 -- STORE R0, %132\n",
      "tmp(49) := 0110000000001101 -- JMP IFS\n",
      "tmp(50) := 0001001000000001 -- INC_HOUR_U: LOAD R1, #1\n",
      "tmp(51) := 0010000001 -- ADD R1, %134\n",
      "tmp(52) := 1000000001 -- STORE R1, %134\n",
      "tmp(53) := 0001000000000000 -- LOAD R0, #0\n",
      "tmp(54) := 1000000000 -- STORE R0, %133\n",
      "tmp(55) := 0110000000001101 -- JMP IFS\n",
      "tmp(56) := 0001001000000001 -- INC_HOUR_D: LOAD R1, #1\n",
      "tmp(57) := 0010000001 -- ADD R1, %135\n",
      "tmp(58) := 1000000001 -- STORE R1, %135\n",
      "tmp(59) := 0001000000000000 -- LOAD R0, #0\n",
      "tmp(60) := 1000000000 -- STORE R0, %134\n",
      "tmp(61) := 0110000000001101 -- JMP IFS\n",
      "tmp(62) := 0001001000000100 -- DAY: LOAD R1, #4\n",
      "tmp(63) := 1100000001 -- CMP R1, %134\n",
      "tmp(64) := 0111000001000010 -- JE RESET_DAY\n",
      "tmp(65) := 0110000000000111 -- JMP LOOP\n",
      "tmp(66) := 0001000000000000 -- RESET_DAY: LOAD R0, #0\n",
      "tmp(67) := 1000000000 -- STORE R0, %130\n",
      "tmp(68) := 1000000000 -- STORE R0, %131\n",
      "tmp(69) := 1000000000 -- STORE R0, %132\n",
      "tmp(70) := 1000000000 -- STORE R0, %133\n",
      "tmp(71) := 1000000000 -- STORE R0, %134\n",
      "tmp(72) := 1000000000 -- STORE R0, %135\n",
      "tmp(73) := 0110000000000111 -- JMP LOOP\n"
     ]
    }
   ],
   "source": [
    "assembler.generate_bin_code()"
   ]
  },
  {
   "cell_type": "code",
   "execution_count": null,
   "metadata": {},
   "outputs": [],
   "source": []
  }
 ],
 "metadata": {
  "kernelspec": {
   "display_name": "Python 3",
   "language": "python",
   "name": "python3"
  },
  "language_info": {
   "codemirror_mode": {
    "name": "ipython",
    "version": 3
   },
   "file_extension": ".py",
   "mimetype": "text/x-python",
   "name": "python",
   "nbconvert_exporter": "python",
   "pygments_lexer": "ipython3",
   "version": "3.8.5"
  }
 },
 "nbformat": 4,
 "nbformat_minor": 4
}
