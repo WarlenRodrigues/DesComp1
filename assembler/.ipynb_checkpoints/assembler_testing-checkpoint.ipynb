{
 "cells": [
  {
   "cell_type": "code",
   "execution_count": 132,
   "metadata": {},
   "outputs": [],
   "source": [
    "class Assembler:\n",
    "\n",
    "    def __init__(self, registers, opcodes):\n",
    "        self.registers = registers\n",
    "        self.opcodes = opcodes\n",
    "        self.functions = {}\n",
    "        self.binary = {}\n",
    "    \n",
    "    def get_code(self, name):\n",
    "        with open(name) as f:\n",
    "            content = f.readlines()\n",
    "        content = [x.strip() for x in content] \n",
    "        self.code = content\n",
    "        print(self.code)\n",
    "\n",
    "    # ELE GUARDA LINHA DA FUNÇÃO-1\n",
    "    def get_functions(self):\n",
    "        for line in range(0, len(self.code)):\n",
    "            parameters = self.code[line].split(\" \")\n",
    "            for parameter in parameters:\n",
    "                if \":\" in parameter:\n",
    "                    self.functions[parameter.replace(\":\", \"\")] = (bin(int(line))[2:].zfill(9))\n",
    "\n",
    "        print(self.functions)\n",
    "\n",
    "    def replace_opcodes_and_registers(self):\n",
    "        for line in range(0, len(self.code)):\n",
    "            command_comment = ' -- ' + self.code[line]\n",
    "            parameters = self.code[line].split(\" \")\n",
    "            parameters_list = []\n",
    "            for parameter in parameters:\n",
    "                if \":\" in parameter:\n",
    "                    self.functions[line] = parameter.replace(\":\", \"\")\n",
    "                else:\n",
    "                    parameter = parameter.replace(',', '')\n",
    "                    if parameter in self.opcodes:\n",
    "                        parameters_list.append(self.opcodes[parameter])\n",
    "                    elif parameter in self.registers:\n",
    "                        parameters_list.append(self.registers[parameter])\n",
    "                    elif \"0x\" in parameter:\n",
    "                        parameters_list.append(bin(int(parameter.replace('0x', \"\")))[2:].zfill(9))\n",
    "                    elif \"#\" in parameter:\n",
    "                        parameters_list.append(bin(int(parameter.replace('#', \"\")))[2:].zfill(9))\n",
    "                    elif parameter in self.functions:\n",
    "                        parameters_list.append(self.functions[parameter])\n",
    "            parameters_list.append(command_comment)\n",
    "            self.binary[line] = parameters_list\n",
    "        print(self.binary)\n",
    "        print(self.functions)\n",
    "        \n",
    "    def generate_bin_code(self):\n",
    "        for item in self.binary:\n",
    "            full_line = ''\n",
    "            for piece in self.binary[item]:\n",
    "                    full_line += piece\n",
    "            print(full_line)"
   ]
  },
  {
   "cell_type": "code",
   "execution_count": 133,
   "metadata": {},
   "outputs": [],
   "source": [
    "#====================== DISASEMBLYING ============================#\n",
    "\n",
    "# SETTING REGISTERS DICT\n",
    "registers = {\"R0\": \"000\",\n",
    "             \"R1\": \"001\",\n",
    "             \"R2\": \"010\",\n",
    "             \"R3\": \"011\", \n",
    "             \"R4\": \"100\", \n",
    "             \"R5\": \"101\", \n",
    "             \"R6\": \"110\",\n",
    "             \"R7\": \"111\"}\n",
    "\n",
    "# SETTING INSTRUCTIONS DICT\n",
    "opcodes = {\"LOAD\": \"0001\",\n",
    "           \"ADD\": \"0010\", \n",
    "           \"ADDI\": \"0100\",\n",
    "           \"STORE\": \"1000\", \n",
    "           \"SUB\": \"0011\", \n",
    "           \"SUBI\": \"0101\", \n",
    "           \"JMP\": \"0110\",\n",
    "           \"CMP\": \"1100\",\n",
    "           \"JE\": \"0111\"}"
   ]
  },
  {
   "cell_type": "code",
   "execution_count": 134,
   "metadata": {},
   "outputs": [],
   "source": [
    "# INSTANTIATING ASSEMBLER\n",
    "assembler = Assembler(registers, opcodes)"
   ]
  },
  {
   "cell_type": "code",
   "execution_count": 135,
   "metadata": {},
   "outputs": [
    {
     "name": "stdout",
     "output_type": "stream",
     "text": [
      "['LOAD R0, #0', 'STORE 0x00, R0', 'STORE 0x01, R0', 'STORE 0x02, R0', 'STORE 0x03, R0', 'STORE 0x04, R0', 'STORE 0x05, R0', 'LOOP: LOAD R0, #1', 'ADD R0, 0x00', 'STORE 0x00, R0', 'LOAD R1, #60', 'STORE 0x10, R1', 'CMP R1, 0x10', 'JE INCMIN', 'JMP LOOP', 'INCMIN:']\n"
     ]
    }
   ],
   "source": [
    "assembler.get_code(\"code.txt\")"
   ]
  },
  {
   "cell_type": "code",
   "execution_count": 136,
   "metadata": {},
   "outputs": [
    {
     "name": "stdout",
     "output_type": "stream",
     "text": [
      "{'LOOP': '000000111', 'INCMIN': '000001111'}\n"
     ]
    }
   ],
   "source": [
    "assembler.get_functions()"
   ]
  },
  {
   "cell_type": "code",
   "execution_count": 137,
   "metadata": {},
   "outputs": [
    {
     "name": "stdout",
     "output_type": "stream",
     "text": [
      "{0: ['0001', '000', '000000000', ' -- LOAD R0, #0'], 1: ['1000', '000000000', '000', ' -- STORE 0x00, R0'], 2: ['1000', '000000001', '000', ' -- STORE 0x01, R0'], 3: ['1000', '000000010', '000', ' -- STORE 0x02, R0'], 4: ['1000', '000000011', '000', ' -- STORE 0x03, R0'], 5: ['1000', '000000100', '000', ' -- STORE 0x04, R0'], 6: ['1000', '000000101', '000', ' -- STORE 0x05, R0'], 7: ['0001', '000', '000000001', ' -- LOOP: LOAD R0, #1'], 8: ['0010', '000', '000000000', ' -- ADD R0, 0x00'], 9: ['1000', '000000000', '000', ' -- STORE 0x00, R0'], 10: ['0001', '001', '000111100', ' -- LOAD R1, #60'], 11: ['1000', '000001010', '001', ' -- STORE 0x10, R1'], 12: ['1100', '001', '000001010', ' -- CMP R1, 0x10'], 13: ['0111', '000001111', ' -- JE INCMIN'], 14: ['0110', '000000111', ' -- JMP LOOP'], 15: [' -- INCMIN:']}\n",
      "{'LOOP': '000000111', 'INCMIN': '000001111', 7: 'LOOP', 15: 'INCMIN'}\n"
     ]
    }
   ],
   "source": [
    "assembler.replace_opcodes_and_registers()"
   ]
  },
  {
   "cell_type": "code",
   "execution_count": 138,
   "metadata": {},
   "outputs": [
    {
     "name": "stdout",
     "output_type": "stream",
     "text": [
      "0001000000000000 -- LOAD R0, #0\n",
      "1000000000000000 -- STORE 0x00, R0\n",
      "1000000000001000 -- STORE 0x01, R0\n",
      "1000000000010000 -- STORE 0x02, R0\n",
      "1000000000011000 -- STORE 0x03, R0\n",
      "1000000000100000 -- STORE 0x04, R0\n",
      "1000000000101000 -- STORE 0x05, R0\n",
      "0001000000000001 -- LOOP: LOAD R0, #1\n",
      "0010000000000000 -- ADD R0, 0x00\n",
      "1000000000000000 -- STORE 0x00, R0\n",
      "0001001000111100 -- LOAD R1, #60\n",
      "1000000001010001 -- STORE 0x10, R1\n",
      "1100001000001010 -- CMP R1, 0x10\n",
      "0111000001111 -- JE INCMIN\n",
      "0110000000111 -- JMP LOOP\n",
      " -- INCMIN:\n"
     ]
    }
   ],
   "source": [
    "assembler.generate_bin_code()"
   ]
  },
  {
   "cell_type": "code",
   "execution_count": null,
   "metadata": {},
   "outputs": [],
   "source": []
  }
 ],
 "metadata": {
  "kernelspec": {
   "display_name": "Python 3",
   "language": "python",
   "name": "python3"
  },
  "language_info": {
   "codemirror_mode": {
    "name": "ipython",
    "version": 3
   },
   "file_extension": ".py",
   "mimetype": "text/x-python",
   "name": "python",
   "nbconvert_exporter": "python",
   "pygments_lexer": "ipython3",
   "version": "3.8.5"
  }
 },
 "nbformat": 4,
 "nbformat_minor": 4
}
